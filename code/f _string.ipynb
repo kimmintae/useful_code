{
 "cells": [
  {
   "cell_type": "markdown",
   "metadata": {},
   "source": [
    "# f-string(python3.6)"
   ]
  },
  {
   "cell_type": "code",
   "execution_count": 9,
   "metadata": {},
   "outputs": [
    {
     "name": "stdout",
     "output_type": "stream",
     "text": [
      "data/train/image1.jpg\n",
      "data/train/image2.jpg\n"
     ]
    }
   ],
   "source": [
    "image_path = 'data/train/'\n",
    "image_list = ['image1.jpg', 'image2.jpg']\n",
    "\n",
    "for image in image_list:\n",
    "    print(f'{image_path}{image}')"
   ]
  },
  {
   "cell_type": "code",
   "execution_count": 18,
   "metadata": {},
   "outputs": [
    {
     "name": "stdout",
     "output_type": "stream",
     "text": [
      "iammt \n",
      "iammt iammt iammt iammt iammt \n",
      "3\n",
      "15\n",
      "iammt : 3\n"
     ]
    }
   ],
   "source": [
    "value = 3\n",
    "id = 'iammt '\n",
    "print(f'{id}')\n",
    "print(f'{id * 5}')   \n",
    "print(f'{value}')\n",
    "print(f'{value * 5}')\n",
    "print(f'{id}: {value}')"
   ]
  }
 ],
 "metadata": {
  "kernelspec": {
   "display_name": "Python 3",
   "language": "python",
   "name": "python3"
  },
  "language_info": {
   "codemirror_mode": {
    "name": "ipython",
    "version": 3
   },
   "file_extension": ".py",
   "mimetype": "text/x-python",
   "name": "python",
   "nbconvert_exporter": "python",
   "pygments_lexer": "ipython3",
   "version": "3.6.3"
  }
 },
 "nbformat": 4,
 "nbformat_minor": 2
}
