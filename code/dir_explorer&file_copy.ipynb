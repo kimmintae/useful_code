{
 "cells": [
  {
   "cell_type": "code",
   "execution_count": 8,
   "metadata": {},
   "outputs": [],
   "source": [
    "import os\n",
    "from shutil import copyfile"
   ]
  },
  {
   "cell_type": "code",
   "execution_count": 15,
   "metadata": {},
   "outputs": [
    {
     "name": "stdout",
     "output_type": "stream",
     "text": [
      "./                             : .gitignore\n",
      "./                             : LICENSE\n",
      "./                             : README.md\n",
      "./                             : Untitled3.ipynb\n",
      "./.git                         : config\n",
      "./.git                         : description\n",
      "./.git                         : FETCH_HEAD\n",
      "./.git                         : HEAD\n",
      "./.git                         : index\n",
      "./.git\\hooks                   : applypatch-msg.sample\n",
      "./.git\\hooks                   : commit-msg.sample\n",
      "./.git\\hooks                   : fsmonitor-watchman.sample\n",
      "./.git\\hooks                   : post-update.sample\n",
      "./.git\\hooks                   : pre-applypatch.sample\n",
      "./.git\\hooks                   : pre-commit.sample\n",
      "./.git\\hooks                   : pre-push.sample\n",
      "./.git\\hooks                   : pre-rebase.sample\n",
      "./.git\\hooks                   : pre-receive.sample\n",
      "./.git\\hooks                   : prepare-commit-msg.sample\n",
      "./.git\\hooks                   : update.sample\n",
      "./.git\\info                    : exclude\n",
      "./.git\\logs                    : HEAD\n",
      "./.git\\logs\\refs\\heads         : master\n",
      "./.git\\logs\\refs\\remotes\\orgin : master\n",
      "./.git\\objects\\0e              : 1eeb874d11b063c1a981ec4bd3cb3f5bca028b\n",
      "./.git\\objects\\19              : 74081318d7430adf441fb0ddf1ad11c3774ba8\n",
      "./.git\\objects\\22              : 2fbbc620f1b6a106f1074f497a75e7e38bde0d\n",
      "./.git\\objects\\7b              : bc71c09205c78d790739d246bbe4f9f1881c17\n",
      "./.git\\objects\\9f              : 4cfe980008621f4a08f5d31122893d6eb5033e\n",
      "./.git\\refs\\heads              : master\n",
      "./.git\\refs\\remotes\\orgin      : master\n",
      "./.ipynb_checkpoints           : Untitled3-checkpoint.ipynb\n"
     ]
    }
   ],
   "source": [
    "# os.walk(directory) : 시작 directory부터 하위의 모든 directory를 차례로 방문\n",
    "# copyfile(기존 파일 이름, 복사 파일 이름) : 파일 복사하기\n",
    "for root, dirs, files in os.walk(\"./\"):  \n",
    "    for filename in files:\n",
    "        print('{:30s} : {}'.format(root, filename))\n",
    "        copyfile(기존파일명, 복사파일명)"
   ]
  },
  {
   "cell_type": "code",
   "execution_count": null,
   "metadata": {},
   "outputs": [],
   "source": []
  }
 ],
 "metadata": {
  "kernelspec": {
   "display_name": "Python 3",
   "language": "python",
   "name": "python3"
  },
  "language_info": {
   "codemirror_mode": {
    "name": "ipython",
    "version": 3
   },
   "file_extension": ".py",
   "mimetype": "text/x-python",
   "name": "python",
   "nbconvert_exporter": "python",
   "pygments_lexer": "ipython3",
   "version": "3.6.3"
  }
 },
 "nbformat": 4,
 "nbformat_minor": 2
}
