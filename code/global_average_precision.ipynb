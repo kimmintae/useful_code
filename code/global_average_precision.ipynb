{
 "cells": [
  {
   "cell_type": "markdown",
   "metadata": {},
   "source": [
    "# Global Average Precision"
   ]
  },
  {
   "cell_type": "markdown",
   "metadata": {},
   "source": [
    "### Kaggle Google Landmark Recognition Challenge\n",
    "https://www.kaggle.com/c/landmark-recognition-challenge#evaluation\n",
    "\n",
    "Submissions are evaluated using Global Average Precision (GAP) at k, where k=1. This metric is also known as micro Average Precision (microAP), as per [1]. It works as follows:\n",
    "\n",
    "For each query image, you will predict one landmark label and a corresponding confidence score. The evaluation treats each prediction as an individual data point in a long list of predictions (sorted in descending order by confidence scores), and computes the Average Precision based on this list.\n",
    "\n",
    "If a submission has N predictions (label/confidence pairs) sorted in descending order by their confidence scores, then the Global Average Precision is computed as:"
   ]
  },
  {
   "cell_type": "markdown",
   "metadata": {},
   "source": [
    "- $GAP=\\frac{1}{M}\\sum_{i=1}^{N}P(i)rel(i)$\n",
    "- where:\n",
    "- $N$ is the total number of predictions returned by the system, across all queries\n",
    "- $M$ is the total number of queries with at least one landmark from the training set visible in it (note that some queries may not depict landmarks)\n",
    "- $P(i)$ is the precision at rank $i$\n",
    "- $rel(i)$ denotes the relevance of prediciton $i$: it’s 1 if the $i$-th prediction is correct, and 0 otherwise\n",
    "\n",
    "[1] F. Perronnin, Y. Liu, and J.-M. Renders, \"A Family of Contextual Measures of Similarity between Distributions with Application to Image Retrieval,\" Proc. CVPR'09"
   ]
  },
  {
   "cell_type": "markdown",
   "metadata": {},
   "source": [
    "- ref : https://www.kaggle.com/davidthaler/gap-metric"
   ]
  },
  {
   "cell_type": "code",
   "execution_count": 63,
   "metadata": {},
   "outputs": [],
   "source": [
    "import numpy as np\n",
    "import pandas as pd\n",
    "\n",
    "def GAP_vector(pred, conf, true, return_x=False):\n",
    "    '''\n",
    "    Compute Global Average Precision (aka micro AP), the metric for the\n",
    "    Google Landmark Recognition competition. \n",
    "    This function takes predictions, labels and confidence scores as vectors.\n",
    "    In both predictions and ground-truth, use None/np.nan for \"no label\".\n",
    "\n",
    "    Args:\n",
    "        pred: vector of integer-coded predictions\n",
    "        conf: vector of probability or confidence scores for pred\n",
    "        true: vector of integer-coded labels for ground truth\n",
    "        return_x: also return the data frame used in the calculation\n",
    "\n",
    "    Returns:\n",
    "        GAP score\n",
    "    '''\n",
    "    x = pd.DataFrame({'pred': pred, 'conf': conf, 'true': true})\n",
    "    x.sort_values('conf', ascending=False, inplace=True, na_position='last')\n",
    "    x['correct'] = (x.true == x.pred).astype(int)\n",
    "    x['prec_k'] = x.correct.cumsum() / (np.arange(len(x)) + 1)\n",
    "    x['term'] = x.prec_k * x.correct\n",
    "    gap = x.term.sum() / x.true.count()\n",
    "    if return_x:\n",
    "        return gap, x\n",
    "    else:\n",
    "        return gap"
   ]
  },
  {
   "cell_type": "markdown",
   "metadata": {},
   "source": [
    "1. confidence 를 기준으로 정렬\n",
    "2. correct 여부 표시\n",
    "3. x['prec_k'] = x.correct.cumsum() 계산\n",
    "4. x['term'] = x.prec_k * x.correct\n",
    "5. gap = x.term.sum() / 데이터 수"
   ]
  },
  {
   "cell_type": "code",
   "execution_count": 73,
   "metadata": {},
   "outputs": [],
   "source": [
    "image_id = np.random.randint(0, 100, size=10)\n",
    "ypred = np.random.choice([1,2,3], 10)\n",
    "ytrue = np.random.choice([1,2,3], 10)\n",
    "conf = np.random.random(10)"
   ]
  },
  {
   "cell_type": "code",
   "execution_count": 74,
   "metadata": {},
   "outputs": [
    {
     "data": {
      "text/plain": [
       "array([48, 60, 21, 35, 42, 48, 16, 15, 88, 65])"
      ]
     },
     "execution_count": 74,
     "metadata": {},
     "output_type": "execute_result"
    }
   ],
   "source": [
    "image_id"
   ]
  },
  {
   "cell_type": "code",
   "execution_count": 75,
   "metadata": {},
   "outputs": [
    {
     "data": {
      "text/plain": [
       "array([3, 2, 3, 2, 3, 1, 1, 2, 2, 2])"
      ]
     },
     "execution_count": 75,
     "metadata": {},
     "output_type": "execute_result"
    }
   ],
   "source": [
    "ypred"
   ]
  },
  {
   "cell_type": "code",
   "execution_count": 76,
   "metadata": {},
   "outputs": [
    {
     "data": {
      "text/plain": [
       "array([3, 3, 1, 3, 1, 2, 1, 2, 1, 1])"
      ]
     },
     "execution_count": 76,
     "metadata": {},
     "output_type": "execute_result"
    }
   ],
   "source": [
    "ytrue"
   ]
  },
  {
   "cell_type": "code",
   "execution_count": 77,
   "metadata": {},
   "outputs": [],
   "source": [
    "df = pd.DataFrame({'image_id': image_id, 'ytrue': ytrue, 'ypred': ypred, 'conf': conf})"
   ]
  },
  {
   "cell_type": "code",
   "execution_count": 78,
   "metadata": {},
   "outputs": [],
   "source": [
    "df['correct'] = (df.ypred == df.ytrue).astype(int)\n",
    "df.sort_values('conf', ascending=False, inplace=True, na_position='last')\n",
    "df['pred_k'] = df.correct.cumsum()\n",
    "df['term'] = df.pred_k * df.correct\n",
    "gap = df.correct.sum() / len(df)"
   ]
  },
  {
   "cell_type": "code",
   "execution_count": 81,
   "metadata": {},
   "outputs": [
    {
     "data": {
      "text/html": [
       "<div>\n",
       "<style>\n",
       "    .dataframe thead tr:only-child th {\n",
       "        text-align: right;\n",
       "    }\n",
       "\n",
       "    .dataframe thead th {\n",
       "        text-align: left;\n",
       "    }\n",
       "\n",
       "    .dataframe tbody tr th {\n",
       "        vertical-align: top;\n",
       "    }\n",
       "</style>\n",
       "<table border=\"1\" class=\"dataframe\">\n",
       "  <thead>\n",
       "    <tr style=\"text-align: right;\">\n",
       "      <th></th>\n",
       "      <th>conf</th>\n",
       "      <th>image_id</th>\n",
       "      <th>ypred</th>\n",
       "      <th>ytrue</th>\n",
       "      <th>correct</th>\n",
       "      <th>pred_k</th>\n",
       "      <th>term</th>\n",
       "    </tr>\n",
       "  </thead>\n",
       "  <tbody>\n",
       "    <tr>\n",
       "      <th>7</th>\n",
       "      <td>0.403362</td>\n",
       "      <td>15</td>\n",
       "      <td>2</td>\n",
       "      <td>2</td>\n",
       "      <td>1</td>\n",
       "      <td>2</td>\n",
       "      <td>2</td>\n",
       "    </tr>\n",
       "    <tr>\n",
       "      <th>6</th>\n",
       "      <td>0.506572</td>\n",
       "      <td>16</td>\n",
       "      <td>1</td>\n",
       "      <td>1</td>\n",
       "      <td>1</td>\n",
       "      <td>1</td>\n",
       "      <td>1</td>\n",
       "    </tr>\n",
       "    <tr>\n",
       "      <th>2</th>\n",
       "      <td>0.089852</td>\n",
       "      <td>21</td>\n",
       "      <td>3</td>\n",
       "      <td>1</td>\n",
       "      <td>0</td>\n",
       "      <td>3</td>\n",
       "      <td>0</td>\n",
       "    </tr>\n",
       "    <tr>\n",
       "      <th>3</th>\n",
       "      <td>0.304743</td>\n",
       "      <td>35</td>\n",
       "      <td>2</td>\n",
       "      <td>3</td>\n",
       "      <td>0</td>\n",
       "      <td>2</td>\n",
       "      <td>0</td>\n",
       "    </tr>\n",
       "    <tr>\n",
       "      <th>4</th>\n",
       "      <td>0.501004</td>\n",
       "      <td>42</td>\n",
       "      <td>3</td>\n",
       "      <td>1</td>\n",
       "      <td>0</td>\n",
       "      <td>1</td>\n",
       "      <td>0</td>\n",
       "    </tr>\n",
       "    <tr>\n",
       "      <th>5</th>\n",
       "      <td>0.251091</td>\n",
       "      <td>48</td>\n",
       "      <td>1</td>\n",
       "      <td>2</td>\n",
       "      <td>0</td>\n",
       "      <td>2</td>\n",
       "      <td>0</td>\n",
       "    </tr>\n",
       "    <tr>\n",
       "      <th>0</th>\n",
       "      <td>0.159241</td>\n",
       "      <td>48</td>\n",
       "      <td>3</td>\n",
       "      <td>3</td>\n",
       "      <td>1</td>\n",
       "      <td>3</td>\n",
       "      <td>3</td>\n",
       "    </tr>\n",
       "    <tr>\n",
       "      <th>1</th>\n",
       "      <td>0.639684</td>\n",
       "      <td>60</td>\n",
       "      <td>2</td>\n",
       "      <td>3</td>\n",
       "      <td>0</td>\n",
       "      <td>0</td>\n",
       "      <td>0</td>\n",
       "    </tr>\n",
       "    <tr>\n",
       "      <th>9</th>\n",
       "      <td>0.862079</td>\n",
       "      <td>65</td>\n",
       "      <td>2</td>\n",
       "      <td>1</td>\n",
       "      <td>0</td>\n",
       "      <td>0</td>\n",
       "      <td>0</td>\n",
       "    </tr>\n",
       "    <tr>\n",
       "      <th>8</th>\n",
       "      <td>0.359474</td>\n",
       "      <td>88</td>\n",
       "      <td>2</td>\n",
       "      <td>1</td>\n",
       "      <td>0</td>\n",
       "      <td>2</td>\n",
       "      <td>0</td>\n",
       "    </tr>\n",
       "  </tbody>\n",
       "</table>\n",
       "</div>"
      ],
      "text/plain": [
       "       conf  image_id  ypred  ytrue  correct  pred_k  term\n",
       "7  0.403362        15      2      2        1       2     2\n",
       "6  0.506572        16      1      1        1       1     1\n",
       "2  0.089852        21      3      1        0       3     0\n",
       "3  0.304743        35      2      3        0       2     0\n",
       "4  0.501004        42      3      1        0       1     0\n",
       "5  0.251091        48      1      2        0       2     0\n",
       "0  0.159241        48      3      3        1       3     3\n",
       "1  0.639684        60      2      3        0       0     0\n",
       "9  0.862079        65      2      1        0       0     0\n",
       "8  0.359474        88      2      1        0       2     0"
      ]
     },
     "execution_count": 81,
     "metadata": {},
     "output_type": "execute_result"
    }
   ],
   "source": [
    "df.sort_values('image_id')"
   ]
  },
  {
   "cell_type": "code",
   "execution_count": 82,
   "metadata": {},
   "outputs": [
    {
     "data": {
      "text/plain": [
       "0.29999999999999999"
      ]
     },
     "execution_count": 82,
     "metadata": {},
     "output_type": "execute_result"
    }
   ],
   "source": [
    "gap"
   ]
  },
  {
   "cell_type": "markdown",
   "metadata": {},
   "source": [
    "제출을 위한 파일은 만드는건 ypred와 confidence만 연결하면 된다."
   ]
  }
 ],
 "metadata": {
  "kernelspec": {
   "display_name": "Python 3",
   "language": "python",
   "name": "python3"
  },
  "language_info": {
   "codemirror_mode": {
    "name": "ipython",
    "version": 3
   },
   "file_extension": ".py",
   "mimetype": "text/x-python",
   "name": "python",
   "nbconvert_exporter": "python",
   "pygments_lexer": "ipython3",
   "version": "3.6.3"
  }
 },
 "nbformat": 4,
 "nbformat_minor": 2
}
